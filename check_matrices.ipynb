{
 "cells": [
  {
   "cell_type": "code",
   "execution_count": 2,
   "metadata": {
    "deletable": false,
    "editable": false
   },
   "outputs": [],
   "source": [
    "# Initialize Otter\n",
    "import otter\n",
    "grader = otter.Notebook(\"check_matrices.ipynb\")"
   ]
  },
  {
   "cell_type": "markdown",
   "metadata": {},
   "source": [
    "# Instructions\n",
    "\n",
    "Overview slides are here https://docs.google.com/presentation/d/1nTexr-lPdkq3HW4ouzYTa9iEiO-6K7j5ihHvZqixIsM/edit?usp=sharing\n",
    "\n",
    "Slides specific to this assignment are here: https://docs.google.com/presentation/d/1iTi45y5AghMZRgStPX4mPdR7uYFQdRBjaekOW7ESTxM/edit?usp=sharing\n",
    "You will be editing matrix_transforms.py for this assignment\n",
    "\n",
    "This is just setting up (and analyzing) 2 dimensional matrices (rotation, translation, scaling)."
   ]
  },
  {
   "cell_type": "code",
   "execution_count": 3,
   "metadata": {},
   "outputs": [],
   "source": [
    "# Doing the imports for you\n",
    "import numpy as np\n",
    "import matplotlib.pyplot as plt\n",
    "\n",
    "# Since we need so many of the functions in matrix_transforms, I'm using this style of import. Anything with\n",
    "# an mt. in front of it comes from matrix_transforms.py\n",
    "import matrix_transforms as mt\n",
    "\n",
    "# These commands will force JN to actually re-load the external file when you re-execute this import command\n",
    "%load_ext autoreload\n",
    "%autoreload 2\n",
    "\n",
    "# Get rid of annoying exponentials\n",
    "np.set_printoptions(precision=2, suppress='True')"
   ]
  },
  {
   "cell_type": "markdown",
   "metadata": {},
   "source": [
    "# Making matrices \n",
    "This bit of code checks that the make_x_matrix routines (and their corresponding get_x_ routines) are working.\n",
    "\n",
    "You shouldn't have to edit any of this code; just the functions in matrix_transforms.py."
   ]
  },
  {
   "cell_type": "markdown",
   "metadata": {},
   "source": [
    "_Type your answer here, replacing this text._"
   ]
  },
  {
   "cell_type": "code",
   "execution_count": 4,
   "metadata": {
    "tags": []
   },
   "outputs": [
    {
     "name": "stdout",
     "output_type": "stream",
     "text": [
      "Matrix:\n",
      "[[1.  0.  0.1]\n",
      " [0.  1.  0.2]\n",
      " [0.  0.  1. ]]\n",
      "Matrix shape:(3, 3)\n"
     ]
    }
   ],
   "source": [
    "# Should have 0.1 in the upper right corner, with 0.2 in the next row down\n",
    "mat_trans = mt.make_translation_matrix(0.1, 0.2)\n",
    "print(f\"Matrix:\\n{mat_trans}\\nMatrix shape:{mat_trans.shape}\")\n",
    "assert(mat_trans.shape == (3, 3))"
   ]
  },
  {
   "cell_type": "code",
   "execution_count": 5,
   "metadata": {
    "tags": []
   },
   "outputs": [
    {
     "name": "stdout",
     "output_type": "stream",
     "text": [
      "Matrix:\n",
      "[[0.1 0.  0. ]\n",
      " [0.  0.2 0. ]\n",
      " [0.  0.  1. ]]\n",
      "Matrix shape:(3, 3)\n"
     ]
    }
   ],
   "source": [
    "# Should have 0.1 then 0.2 on the diagonal\n",
    "mat_scale = mt.make_scale_matrix(0.1, 0.2)\n",
    "print(f\"Matrix:\\n{mat_scale}\\nMatrix shape:{mat_scale.shape}\")\n",
    "assert(mat_scale.shape == (3, 3))"
   ]
  },
  {
   "cell_type": "code",
   "execution_count": 6,
   "metadata": {
    "tags": []
   },
   "outputs": [
    {
     "name": "stdout",
     "output_type": "stream",
     "text": [
      "Matrix:\n",
      "[[ 0.87 -0.5   0.  ]\n",
      " [ 0.5   0.87  0.  ]\n",
      " [ 0.    0.    1.  ]]\n",
      "Matrix shape:(3, 3)\n"
     ]
    }
   ],
   "source": [
    "# Should have 0.866 on the diagonal, -0.5 and 0.5 on the off-axis\n",
    "mat_rot = mt.make_rotation_matrix(np.pi / 6.0)\n",
    "print(f\"Matrix:\\n{mat_rot}\\nMatrix shape:{mat_rot.shape}\")\n",
    "assert(mat_rot.shape == (3, 3))"
   ]
  },
  {
   "cell_type": "code",
   "execution_count": 7,
   "metadata": {
    "tags": []
   },
   "outputs": [
    {
     "name": "stdout",
     "output_type": "stream",
     "text": [
      "Got back 0.1, 0.2\n"
     ]
    }
   ],
   "source": [
    "# Get back out what you put in\n",
    "dx = 0.1\n",
    "dy = 0.2\n",
    "mat_trans = mt.make_translation_matrix(dx, dy)\n",
    "dx_back, dy_back = mt.get_dx_dy_from_matrix(mat_trans)\n",
    "print(f\"Got back {dx_back}, {dy_back}\")\n",
    "assert(np.isclose(dx, dx_back))\n",
    "assert(np.isclose(dy, dy_back))"
   ]
  },
  {
   "cell_type": "code",
   "execution_count": 8,
   "metadata": {
    "tags": []
   },
   "outputs": [
    {
     "name": "stdout",
     "output_type": "stream",
     "text": [
      "Got back 0.1, 0.2\n"
     ]
    }
   ],
   "source": [
    "# Get back out what you put in\n",
    "sx = 0.1\n",
    "sy = 0.2\n",
    "mat_scale = mt.make_scale_matrix(sx, sy)\n",
    "sx_back, sy_back = mt.get_sx_sy_from_matrix(mat_scale)\n",
    "print(f\"Got back {sx_back}, {sy_back}\")\n",
    "assert(np.isclose(sx, sx_back))\n",
    "assert(np.isclose(sy, sy_back))"
   ]
  },
  {
   "cell_type": "code",
   "execution_count": 9,
   "metadata": {
    "tags": []
   },
   "outputs": [
    {
     "name": "stdout",
     "output_type": "stream",
     "text": [
      "Got back vec [0. 1.] and [-1.  0.]\n",
      "Sent 1.5707963267948966 got back 1.5707963267948966\n"
     ]
    }
   ],
   "source": [
    "# Get back out what you put in\n",
    "theta = np.pi / 2.0\n",
    "mat_rot = mt.make_rotation_matrix(theta)\n",
    "\n",
    "v_new_x, v_new_y = mt.get_axes_from_matrix(mat_rot)\n",
    "print(f\"Got back vec {v_new_x} and {v_new_y}\")\n",
    "\n",
    "vec_expected_x = np.array([0.0, 1.0])\n",
    "vec_expected_y = np.array([-1.0, 0.0])\n",
    "assert(np.all(np.isclose(v_new_x, vec_expected_x)))\n",
    "assert(np.all(np.isclose(v_new_y, vec_expected_y)))\n",
    "\n",
    "theta_back = mt.get_theta_from_matrix(mat_rot)\n",
    "print(f\"Sent {theta} got back {theta_back}\")\n",
    "assert(np.isclose(theta, theta_back))"
   ]
  },
  {
   "cell_type": "code",
   "execution_count": 15,
   "metadata": {
    "tags": []
   },
   "outputs": [
    {
     "data": {
      "text/plain": [
       "True"
      ]
     },
     "execution_count": 15,
     "metadata": {},
     "output_type": "execute_result"
    }
   ],
   "source": [
    "# Call each of the test routines in turn\n",
    "mt.test_matrices()"
   ]
  },
  {
   "cell_type": "code",
   "execution_count": 29,
   "metadata": {
    "deletable": false,
    "editable": false
   },
   "outputs": [
    {
     "data": {
      "text/html": [
       "<p><strong style='color: red;'><pre style='display: inline;'>making_matrices</pre> results:</strong></p><p><strong><pre style='display: inline;'>making_matrices - 1</pre> result:</strong></p><pre>    ❌ Test case failed\n",
       "    Trying:\n",
       "        assert(mt.test_matrices())\n",
       "    Expecting nothing\n",
       "    **********************************************************************\n",
       "    Line 1, in making_matrices 0\n",
       "    Failed example:\n",
       "        assert(mt.test_matrices())\n",
       "    Exception raised:\n",
       "        Traceback (most recent call last):\n",
       "          File \"c:\\Users\\Keegan\\AppData\\Local\\Programs\\Python\\Python310\\lib\\doctest.py\", line 1348, in __run\n",
       "            exec(compile(example.source, filename, \"single\",\n",
       "          File \"<doctest making_matrices 0[0]>\", line 1, in <module>\n",
       "            assert(mt.test_matrices())\n",
       "          File \"c:\\Users\\Keegan\\Documents\\introrob\\ROB514\\Skills\\matrix_transforms.py\", line 349, in test_matrices\n",
       "            test_rotation_matrix()\n",
       "          File \"c:\\Users\\Keegan\\Documents\\introrob\\ROB514\\Skills\\matrix_transforms.py\", line 337, in test_rotation_matrix\n",
       "            raise ValueError(\"Rotation matrix not orthonormal {theta}, {mat}\")\n",
       "        ValueError: Rotation matrix not orthonormal {theta}, {mat}\n",
       "</pre>"
      ],
      "text/plain": [
       "making_matrices results:\n",
       "    making_matrices - 1 result:\n",
       "        ❌ Test case failed\n",
       "        Trying:\n",
       "            assert(mt.test_matrices())\n",
       "        Expecting nothing\n",
       "        **********************************************************************\n",
       "        Line 1, in making_matrices 0\n",
       "        Failed example:\n",
       "            assert(mt.test_matrices())\n",
       "        Exception raised:\n",
       "            Traceback (most recent call last):\n",
       "              File \"c:\\Users\\Keegan\\AppData\\Local\\Programs\\Python\\Python310\\lib\\doctest.py\", line 1348, in __run\n",
       "                exec(compile(example.source, filename, \"single\",\n",
       "              File \"<doctest making_matrices 0[0]>\", line 1, in <module>\n",
       "                assert(mt.test_matrices())\n",
       "              File \"c:\\Users\\Keegan\\Documents\\introrob\\ROB514\\Skills\\matrix_transforms.py\", line 349, in test_matrices\n",
       "                test_rotation_matrix()\n",
       "              File \"c:\\Users\\Keegan\\Documents\\introrob\\ROB514\\Skills\\matrix_transforms.py\", line 337, in test_rotation_matrix\n",
       "                raise ValueError(\"Rotation matrix not orthonormal {theta}, {mat}\")\n",
       "            ValueError: Rotation matrix not orthonormal {theta}, {mat}"
      ]
     },
     "execution_count": 29,
     "metadata": {},
     "output_type": "execute_result"
    }
   ],
   "source": [
    "grader.check(\"making_matrices\")"
   ]
  },
  {
   "cell_type": "markdown",
   "metadata": {},
   "source": [
    "# Check matrices\n",
    "These are the checks you need to make sure your matrices are what you expect they are (angle-preserving, no mirroring). \n",
    "\n",
    "These are the check_x routines in matrix_transforms.py. Note that this is just test_checks pulled apart into each check call. You don't have to change any of this code; see the slides for what this should output"
   ]
  },
  {
   "cell_type": "code",
   "execution_count": 47,
   "metadata": {
    "tags": []
   },
   "outputs": [
    {
     "name": "stdout",
     "output_type": "stream",
     "text": [
      "2.0\n",
      "1.0\n",
      "0.0\n"
     ]
    }
   ],
   "source": [
    "mat_not_orthonormal = np.identity(3)\n",
    "mat_not_orthonormal[0, 0] = 2.0\n",
    "if mt.check_is_rotation(mat_not_orthonormal, b_print=True):\n",
    "    raise ValueError(f\"Matrix {mat_not_orthonormal} is not orthonormal, should fail length check\")"
   ]
  },
  {
   "cell_type": "code",
   "execution_count": 48,
   "metadata": {
    "tags": []
   },
   "outputs": [
    {
     "name": "stdout",
     "output_type": "stream",
     "text": [
      "1.004987562112089\n",
      "0.99498743710662\n",
      "0.099498743710662\n"
     ]
    }
   ],
   "source": [
    "mat_not_orthonormal = np.identity(3)\n",
    "\n",
    "mat_not_orthonormal[1, 1] = np.sqrt(1.0 - 0.1 * 0.1)\n",
    "mat_not_orthonormal[1, 0] = 0.1\n",
    "\n",
    "if mt.check_is_rotation(mat_not_orthonormal, True):\n",
    "    raise ValueError(f\"Matrix {mat_not_orthonormal} is not orthonormal, should fail orthogonal check\")"
   ]
  },
  {
   "cell_type": "code",
   "execution_count": 22,
   "metadata": {
    "tags": []
   },
   "outputs": [],
   "source": [
    "mat_mirrored = mt.make_scale_matrix(2.0, -1.2)\n",
    "if not mt.check_is_mirrored(mat_mirrored):\n",
    "    raise ValueError(f\"Matrix {mat_mirrored} is mirrored\")"
   ]
  },
  {
   "cell_type": "code",
   "execution_count": 23,
   "metadata": {
    "tags": []
   },
   "outputs": [],
   "source": [
    "mat_skewed = mt.make_scale_matrix(2.0, 1.2) @ mt.make_rotation_matrix(0.25)\n",
    "if mt.check_preserves_angles(mat_skewed):\n",
    "    raise ValueError(f\"Matrix {mat_skewed} does NOT preserve angles\")"
   ]
  },
  {
   "cell_type": "code",
   "execution_count": 24,
   "metadata": {
    "tags": []
   },
   "outputs": [],
   "source": [
    "mat_is_ok = mt.make_rotation_matrix(np.pi/3.0) @ mt.make_translation_matrix(0.2, -0.3) @ mt.make_rotation_matrix(-np.pi/2.0) @ mt.make_scale_matrix(0.2, 2.0)\n",
    "if mt.check_is_mirrored(mat_is_ok):\n",
    "    raise ValueError(f\"Matrix {mat_is_ok} is NOT mirrored\")\n",
    "if not mt.check_preserves_angles(mat_is_ok):\n",
    "    raise ValueError(f\"Matrix {mat_is_ok} is angle-preserving\")\n",
    "if mt.check_is_rotation(mat_is_ok):\n",
    "    raise ValueError(f\"Matrix {mat_is_ok} is NOT orthonormal\")\n"
   ]
  },
  {
   "cell_type": "code",
   "execution_count": 46,
   "metadata": {
    "tags": []
   },
   "outputs": [
    {
     "name": "stdout",
     "output_type": "stream",
     "text": [
      "1.3152946437965904\n",
      "1.2369316876852983\n",
      "0.6299999999999999\n"
     ]
    },
    {
     "ename": "ValueError",
     "evalue": "Matrix [[ 0.87  0.5   0.36]\n [-0.5   0.87  0.02]\n [ 0.    0.    1.  ]] is orthonormal",
     "output_type": "error",
     "traceback": [
      "\u001b[1;31m---------------------------------------------------------------------------\u001b[0m",
      "\u001b[1;31mValueError\u001b[0m                                Traceback (most recent call last)",
      "\u001b[1;32mc:\\Users\\Keegan\\Documents\\introrob\\ROB514\\Skills\\check_matrices.ipynb Cell 20\u001b[0m in \u001b[0;36m<module>\u001b[1;34m\u001b[0m\n\u001b[0;32m      <a href='vscode-notebook-cell:/c%3A/Users/Keegan/Documents/introrob/ROB514/Skills/check_matrices.ipynb#X25sZmlsZQ%3D%3D?line=0'>1</a>\u001b[0m mat_is_ortho \u001b[39m=\u001b[39m mt\u001b[39m.\u001b[39mmake_rotation_matrix(np\u001b[39m.\u001b[39mpi\u001b[39m/\u001b[39m\u001b[39m3.0\u001b[39m) \u001b[39m@\u001b[39m mt\u001b[39m.\u001b[39mmake_translation_matrix(\u001b[39m0.2\u001b[39m, \u001b[39m-\u001b[39m\u001b[39m0.3\u001b[39m) \u001b[39m@\u001b[39m mt\u001b[39m.\u001b[39mmake_rotation_matrix(\u001b[39m-\u001b[39mnp\u001b[39m.\u001b[39mpi\u001b[39m/\u001b[39m\u001b[39m2.0\u001b[39m)\n\u001b[0;32m      <a href='vscode-notebook-cell:/c%3A/Users/Keegan/Documents/introrob/ROB514/Skills/check_matrices.ipynb#X25sZmlsZQ%3D%3D?line=1'>2</a>\u001b[0m \u001b[39mif\u001b[39;00m \u001b[39mnot\u001b[39;00m mt\u001b[39m.\u001b[39mcheck_is_rotation(mat_is_ortho):\n\u001b[1;32m----> <a href='vscode-notebook-cell:/c%3A/Users/Keegan/Documents/introrob/ROB514/Skills/check_matrices.ipynb#X25sZmlsZQ%3D%3D?line=2'>3</a>\u001b[0m     \u001b[39mraise\u001b[39;00m \u001b[39mValueError\u001b[39;00m(\u001b[39mf\u001b[39m\u001b[39m\"\u001b[39m\u001b[39mMatrix \u001b[39m\u001b[39m{\u001b[39;00mmat_is_ortho\u001b[39m}\u001b[39;00m\u001b[39m is orthonormal\u001b[39m\u001b[39m\"\u001b[39m)\n",
      "\u001b[1;31mValueError\u001b[0m: Matrix [[ 0.87  0.5   0.36]\n [-0.5   0.87  0.02]\n [ 0.    0.    1.  ]] is orthonormal"
     ]
    }
   ],
   "source": [
    "mat_is_ortho = mt.make_rotation_matrix(np.pi/3.0) @ mt.make_translation_matrix(0.2, -0.3) @ mt.make_rotation_matrix(-np.pi/2.0)\n",
    "if not mt.check_is_rotation(mat_is_ortho):\n",
    "    raise ValueError(f\"Matrix {mat_is_ortho} is orthonormal\")"
   ]
  },
  {
   "cell_type": "code",
   "execution_count": 43,
   "metadata": {
    "deletable": false,
    "editable": false
   },
   "outputs": [
    {
     "data": {
      "text/html": [
       "<p><strong style='color: red;'><pre style='display: inline;'>check_matrices</pre> results:</strong></p><p><strong><pre style='display: inline;'>check_matrices - 1</pre> result:</strong></p><pre>    ❌ Test case failed\n",
       "    Trying:\n",
       "        assert(mt.test_checks())\n",
       "    Expecting nothing\n",
       "    **********************************************************************\n",
       "    Line 1, in check_matrices 0\n",
       "    Failed example:\n",
       "        assert(mt.test_checks())\n",
       "    Exception raised:\n",
       "        Traceback (most recent call last):\n",
       "          File \"c:\\Users\\Keegan\\AppData\\Local\\Programs\\Python\\Python310\\lib\\doctest.py\", line 1348, in __run\n",
       "            exec(compile(example.source, filename, \"single\",\n",
       "          File \"<doctest check_matrices 0[0]>\", line 1, in <module>\n",
       "            assert(mt.test_checks())\n",
       "          File \"c:\\Users\\Keegan\\Documents\\introrob\\ROB514\\Skills\\matrix_transforms.py\", line 391, in test_checks\n",
       "            raise ValueError(f\"Matrix {mat_is_ortho} is orthonormal\")\n",
       "        ValueError: Matrix [[ 0.87  0.5   0.36]\n",
       "         [-0.5   0.87  0.02]\n",
       "         [ 0.    0.    1.  ]] is orthonormal\n",
       "</pre>"
      ],
      "text/plain": [
       "check_matrices results:\n",
       "    check_matrices - 1 result:\n",
       "        ❌ Test case failed\n",
       "        Trying:\n",
       "            assert(mt.test_checks())\n",
       "        Expecting nothing\n",
       "        **********************************************************************\n",
       "        Line 1, in check_matrices 0\n",
       "        Failed example:\n",
       "            assert(mt.test_checks())\n",
       "        Exception raised:\n",
       "            Traceback (most recent call last):\n",
       "              File \"c:\\Users\\Keegan\\AppData\\Local\\Programs\\Python\\Python310\\lib\\doctest.py\", line 1348, in __run\n",
       "                exec(compile(example.source, filename, \"single\",\n",
       "              File \"<doctest check_matrices 0[0]>\", line 1, in <module>\n",
       "                assert(mt.test_checks())\n",
       "              File \"c:\\Users\\Keegan\\Documents\\introrob\\ROB514\\Skills\\matrix_transforms.py\", line 391, in test_checks\n",
       "                raise ValueError(f\"Matrix {mat_is_ortho} is orthonormal\")\n",
       "            ValueError: Matrix [[ 0.87  0.5   0.36]\n",
       "             [-0.5   0.87  0.02]\n",
       "             [ 0.    0.    1.  ]] is orthonormal"
      ]
     },
     "execution_count": 43,
     "metadata": {},
     "output_type": "execute_result"
    }
   ],
   "source": [
    "grader.check(\"check_matrices\")"
   ]
  },
  {
   "cell_type": "markdown",
   "metadata": {},
   "source": [
    "<!-- BEGIN QUESTION -->\n",
    "\n",
    "# Set up the XY matrix for drawing\n",
    "\n",
    "Edit make_matrix_from_sequence to actually build a matrix sequence.\n",
    "Edit make_pts_representing_circle to make a matrix representing the points on the circle,\n",
    "Edit plot_axes_and_circle to create the XY vertices/geometry for drawing a circle.\n",
    "Note that I'm using make_matrix_from_sequence for these examples; it will call the mak"
   ]
  },
  {
   "cell_type": "code",
   "execution_count": 26,
   "metadata": {
    "tags": []
   },
   "outputs": [
    {
     "name": "stdout",
     "output_type": "stream",
     "text": [
      "Matrix:\n",
      "[[ 0.71 -0.71  1.  ]\n",
      " [ 0.71  0.71  2.  ]\n",
      " [ 0.    0.    1.  ]]\n"
     ]
    }
   ],
   "source": [
    "# Check syntax of call\n",
    "seq_rot_trans = [{\"type\":\"rotate\", \"theta\": np.pi/4.0},\n",
    "                 {\"type\":\"translate\", \"dx\": 1, \"dy\": 2}]\n",
    "\n",
    "mat = mt.make_matrix_from_sequence(seq_rot_trans)\n",
    "print(f\"Matrix:\\n{mat}\")"
   ]
  },
  {
   "cell_type": "code",
   "execution_count": 30,
   "metadata": {
    "tags": []
   },
   "outputs": [
    {
     "name": "stdout",
     "output_type": "stream",
     "text": [
      "[[ 1.    0.97  0.87  0.71  0.5   0.26  0.   -0.26 -0.5  -0.71 -0.87 -0.97\n",
      "  -1.   -0.97 -0.87 -0.71 -0.5  -0.26 -0.    0.26  0.5   0.71  0.87  0.97\n",
      "   1.  ]\n",
      " [ 0.    0.26  0.5   0.71  0.87  0.97  1.    0.97  0.87  0.71  0.5   0.26\n",
      "   0.   -0.26 -0.5  -0.71 -0.87 -0.97 -1.   -0.97 -0.87 -0.71 -0.5  -0.26\n",
      "  -0.  ]\n",
      " [ 1.    1.    1.    1.    1.    1.    1.    1.    1.    1.    1.    1.\n",
      "   1.    1.    1.    1.    1.    1.    1.    1.    1.    1.    1.    1.\n",
      "   1.  ]]\n"
     ]
    }
   ],
   "source": [
    "# Check syntax of call\n",
    "pts = mt.make_pts_representing_circle(25)\n",
    "print(pts)\n",
    "assert(pts.shape == (3, 25))"
   ]
  },
  {
   "cell_type": "code",
   "execution_count": 39,
   "metadata": {
    "tags": []
   },
   "outputs": [
    {
     "data": {
      "image/png": "[encoded data removed]",
      "text/plain": [
       "<Figure size 432x288 with 4 Axes>"
      ]
     },
     "metadata": {
      "needs_background": "light"
     },
     "output_type": "display_data"
    }
   ],
   "source": [
    "# Syntax/draws correctly check (just one plot)\n",
    "fig, axs = plt.subplots(2, 2)\n",
    "\n",
    "\n",
    "axs[0, 0].set_title(\"Rot trans\")\n",
    "mt.plot_axes_and_circle(axs[0, 0], mat)"
   ]
  },
  {
   "cell_type": "markdown",
   "metadata": {},
   "source": [
    "<!-- END QUESTION -->\n",
    "\n",
    "<!-- BEGIN QUESTION -->\n",
    "\n",
    "# Order matters\n",
    "Edit example_order_matters() to create the plot shown in the slides.\n",
    "\n",
    "Which one of these four transformations is NOT angle-preserving? Why?"
   ]
  },
  {
   "cell_type": "code",
   "execution_count": 49,
   "metadata": {
    "tags": []
   },
   "outputs": [
    {
     "data": {
      "image/png": "[encoded data removed]",
      "text/plain": [
       "<Figure size 576x576 with 4 Axes>"
      ]
     },
     "metadata": {
      "needs_background": "light"
     },
     "output_type": "display_data"
    }
   ],
   "source": [
    "mt.example_order_matters()"
   ]
  },
  {
   "cell_type": "code",
   "execution_count": 50,
   "metadata": {
    "tags": []
   },
   "outputs": [
    {
     "name": "stdout",
     "output_type": "stream",
     "text": [
      "Trans rot sci is not angle preserving as we are scaling after everything else.\n"
     ]
    }
   ],
   "source": [
    "# Edit this line of code\n",
    "print(\"Trans rot sci is not angle preserving as we are scaling after everything else.\")"
   ]
  },
  {
   "cell_type": "markdown",
   "metadata": {},
   "source": [
    "<!-- END QUESTION -->\n",
    "\n",
    "<!-- BEGIN QUESTION -->\n",
    "\n",
    "# Mirroring and skewing\n",
    "In this problem, edit example_weird_geometry to create a mirror and a non-angle preserving matrix. The slides show the ones I made; there are an infinite number of choices. "
   ]
  },
  {
   "cell_type": "code",
   "execution_count": null,
   "metadata": {
    "tags": []
   },
   "outputs": [],
   "source": [
    "mt.example_weird_geometry()"
   ]
  },
  {
   "cell_type": "markdown",
   "metadata": {},
   "source": [
    "<!-- END QUESTION -->\n",
    "\n",
    "<!-- BEGIN QUESTION -->\n",
    "\n",
    "# Geometry is NOT centered around the origin\n",
    "Edit example_uncentered_geometry to create versions of the circle and the zigzag that are in other configurations.\n",
    "- Put the orgin in the lower left (-1, -1), rather than the center. This is a pretty common placement.\n",
    "- Orient so that the \"up\" direction is no longer the y-axis, but is the x-axis. \n",
    "- Do both\n",
    "\n",
    "The matrix transformation applied to the geometry is the SAME for all of these plots - it's represented by the red,blue lines. It's just the geometry that has moved."
   ]
  },
  {
   "cell_type": "code",
   "execution_count": null,
   "metadata": {
    "tags": []
   },
   "outputs": [],
   "source": [
    "mt.example_uncentered_geometry()"
   ]
  },
  {
   "cell_type": "markdown",
   "metadata": {},
   "source": [
    "<!-- END QUESTION -->\n",
    "\n",
    "## Hours and collaborators\n",
    "Required for every assignment - fill out before you hand-in.\n",
    "\n",
    "Listing names and websites helps you to document who you worked with and what internet help you received in the case of any plagiarism issues. You should list names of anyone (in class or not) who has substantially helped you with an assignment - or anyone you have *helped*. You do not need to list TAs.\n",
    "\n",
    "Listing hours helps us track if the assignments are too long."
   ]
  },
  {
   "cell_type": "code",
   "execution_count": null,
   "metadata": {
    "tags": []
   },
   "outputs": [],
   "source": [
    "\n",
    "# List of names (creates a set)\n",
    "worked_with_names = {\"not filled out\"}\n",
    "# List of URLS (creates a set)\n",
    "websites = {\"not filled out\"}\n",
    "# Approximate number of hours, including lab/in-class time\n",
    "hours = -1.5\n",
    "\n",
    "# for all row, column in all_indices_from_where\n",
    "#.   if this is the column for wrist torque \n",
    "#.      print(f\"Row: {r}, Time step: {c // n_time_steps} Successful y/n: {pick_data[r, -1] == 1}, value: {pick_data[r, c]}\")"
   ]
  },
  {
   "cell_type": "code",
   "execution_count": null,
   "metadata": {
    "deletable": false,
    "editable": false
   },
   "outputs": [],
   "source": [
    "grader.check(\"hours_collaborators\")"
   ]
  },
  {
   "cell_type": "markdown",
   "metadata": {
    "deletable": false,
    "editable": false
   },
   "source": [
    "## Submission\n",
    "\n",
    "Make sure you have run all cells in your notebook in order before running the cell below, so that all images/graphs appear in the output. The cell below will generate a zip file for you to submit. **Please save before exporting!**\n",
    "\n",
    "Submit through gradescope, matrix transforms"
   ]
  },
  {
   "cell_type": "code",
   "execution_count": null,
   "metadata": {
    "deletable": false,
    "editable": false
   },
   "outputs": [],
   "source": [
    "# Save your notebook first, then run this cell to export your submission.\n",
    "grader.export(run_tests=True)"
   ]
  },
  {
   "cell_type": "markdown",
   "metadata": {},
   "source": [
    " "
   ]
  }
 ],
 "metadata": {
  "kernelspec": {
   "display_name": "Python 3.10.0 64-bit",
   "language": "python",
   "name": "python3"
  },
  "language_info": {
   "codemirror_mode": {
    "name": "ipython",
    "version": 3
   },
   "file_extension": ".py",
   "mimetype": "text/x-python",
   "name": "python",
   "nbconvert_exporter": "python",
   "pygments_lexer": "ipython3",
   "version": "3.10.0"
  },
  "otter": {
   "OK_FORMAT": true,
   "tests": {
    "check_matrices": {
     "name": "check_matrices",
     "points": 2,
     "suites": [
      {
       "cases": [
        {
         "code": ">>> assert(mt.test_checks())\n",
         "hidden": false,
         "locked": false
        }
       ],
       "scored": true,
       "setup": "",
       "teardown": "",
       "type": "doctest"
      }
     ]
    },
    "hours_collaborators": {
     "name": "hours_collaborators",
     "points": 1,
     "suites": [
      {
       "cases": [
        {
         "code": ">>> assert(not \"not filled out\" in worked_with_names)\n",
         "hidden": false,
         "locked": false
        },
        {
         "code": ">>> assert(not \"not filled out\" in websites)\n",
         "hidden": false,
         "locked": false
        },
        {
         "code": ">>> assert(hours > 0)\n",
         "hidden": false,
         "locked": false
        }
       ],
       "scored": true,
       "setup": "",
       "teardown": "",
       "type": "doctest"
      }
     ]
    },
    "making_matrices": {
     "name": "making_matrices",
     "points": 3,
     "suites": [
      {
       "cases": [
        {
         "code": ">>> assert(mt.test_matrices())\n",
         "hidden": false,
         "locked": false
        }
       ],
       "scored": true,
       "setup": "",
       "teardown": "",
       "type": "doctest"
      }
     ]
    }
   }
  },
  "vscode": {
   "interpreter": {
    "hash": "c2c27e92c494fdd90f650a8ae5eb21f07c7801f96c22cbb9ef92e754389037f2"
   }
  }
 },
 "nbformat": 4,
 "nbformat_minor": 2
}
